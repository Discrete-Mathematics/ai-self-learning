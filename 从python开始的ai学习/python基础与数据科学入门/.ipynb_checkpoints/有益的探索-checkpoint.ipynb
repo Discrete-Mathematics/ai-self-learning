{
 "cells": [
  {
   "cell_type": "markdown",
   "id": "78e3395e",
   "metadata": {},
   "source": [
    "# 有益的探索\n",
    "\n",
    "## 思维导图\n",
    "\n",
    "![思维导图](思维导图.png \"思维导图\")\n",
    "\n",
    "## 1.数据类型的底层实现\n",
    "\n",
    "### 1.1 从奇怪的列表开始\n",
    "\n",
    "#### 1.复制问题"
   ]
  },
  {
   "cell_type": "code",
   "execution_count": 1,
   "id": "dc6397e7",
   "metadata": {},
   "outputs": [],
   "source": [
    "list_1 = [1, [22, 33, 44], (5, 6, 7), {\"name\": \"Sarah\"}]"
   ]
  },
  {
   "cell_type": "markdown",
   "id": "50eab5cd",
   "metadata": {},
   "source": [
    "- 浅拷贝"
   ]
  },
  {
   "cell_type": "code",
   "execution_count": 2,
   "id": "09bff740",
   "metadata": {},
   "outputs": [],
   "source": [
    "# list_3 = list_1    #错误，只是相当于给了个别名\n",
    "list_2 = list_1.copy()    #或者list_1[:]  \\  list(list_1)也可以实现浅拷贝"
   ]
  },
  {
   "cell_type": "markdown",
   "id": "a6e01b12",
   "metadata": {},
   "source": [
    "- 对浅拷贝前后两列表分别进行操作"
   ]
  },
  {
   "cell_type": "code",
   "execution_count": 3,
   "id": "9bd2de47",
   "metadata": {},
   "outputs": [
    {
     "name": "stdout",
     "output_type": "stream",
     "text": [
      "list_1:   [1, [22, 33, 44, 55], (5, 6, 7), {'name': 'Sarah'}]\n",
      "list_2:   [1, [22, 33, 44, 55], (5, 6, 7), {'name': 'Sarah'}]\n"
     ]
    }
   ],
   "source": [
    "list_2[1].append(55)\n",
    "\n",
    "print(\"list_1:  \", list_1)\n",
    "print(\"list_2:  \", list_2)"
   ]
  },
  {
   "cell_type": "markdown",
   "id": "3994dc85",
   "metadata": {},
   "source": [
    "- 为什么我改的是list_2,list_1也变了"
   ]
  },
  {
   "cell_type": "markdown",
   "id": "3a1dec07",
   "metadata": {},
   "source": [
    "#### 2. 列表的底层实现\n",
    "\n",
    "**引用数组的概念**\n",
    "\n",
    "列表内的元素可以分散的存储在内存中  \n",
    "列表存储的，实际上是这些**元素的地址！！！** ——地址的存储在内存中是连续的\n",
    "\n",
    "![引用数组](引用数组概念图.png \"引用数组概念图\")"
   ]
  },
  {
   "cell_type": "code",
   "execution_count": 4,
   "id": "d40242ad",
   "metadata": {},
   "outputs": [],
   "source": [
    "list_1 = [1, [22, 33, 44], (5, 6, 7), {\"name\": \"Sarah\"}]\n",
    "list_2 = list(list_1)    #浅拷贝"
   ]
  },
  {
   "cell_type": "markdown",
   "id": "79548bb1",
   "metadata": {},
   "source": [
    "(1). 新增元素"
   ]
  },
  {
   "cell_type": "code",
   "execution_count": 5,
   "id": "fdd2b88c",
   "metadata": {},
   "outputs": [
    {
     "name": "stdout",
     "output_type": "stream",
     "text": [
      "list_1:   [1, [22, 33, 44], (5, 6, 7), {'name': 'Sarah'}, 100]\n",
      "list_2:   [1, [22, 33, 44], (5, 6, 7), {'name': 'Sarah'}, 'n']\n"
     ]
    }
   ],
   "source": [
    "list_1.append(100)\n",
    "list_2.append(\"n\")\n",
    "\n",
    "print(\"list_1:  \", list_1)\n",
    "print(\"list_2:  \", list_2)"
   ]
  },
  {
   "cell_type": "markdown",
   "id": "d974d2e8",
   "metadata": {},
   "source": [
    "实现原理：\n",
    "![新增元素实现原理](实现原理1.png \"新增元素实现原理\")"
   ]
  },
  {
   "cell_type": "markdown",
   "id": "b62db3e1",
   "metadata": {},
   "source": [
    "(2).修改元素"
   ]
  },
  {
   "cell_type": "code",
   "execution_count": 6,
   "id": "f14b5841",
   "metadata": {},
   "outputs": [
    {
     "name": "stdout",
     "output_type": "stream",
     "text": [
      "list_1:   [10, [22, 33, 44], (5, 6, 7), {'name': 'Sarah'}, 100]\n",
      "list_2:   [20, [22, 33, 44], (5, 6, 7), {'name': 'Sarah'}, 'n']\n"
     ]
    }
   ],
   "source": [
    "list_1[0] = 10\n",
    "list_2[0] = 20\n",
    "\n",
    "print(\"list_1:  \", list_1)\n",
    "print(\"list_2:  \", list_2)"
   ]
  },
  {
   "cell_type": "markdown",
   "id": "f0b0dc43",
   "metadata": {},
   "source": [
    "实现原理：\n",
    "![修改元素实现原理](实现原理2.png \"修改元素实现原理\")"
   ]
  },
  {
   "cell_type": "markdown",
   "id": "e9687e0f",
   "metadata": {},
   "source": [
    "(3). 对列表型元素进行操作"
   ]
  },
  {
   "cell_type": "code",
   "execution_count": 7,
   "id": "0d652f5e",
   "metadata": {},
   "outputs": [
    {
     "name": "stdout",
     "output_type": "stream",
     "text": [
      "list_1:   [10, [22, 33, 55, 66], (5, 6, 7), {'name': 'Sarah'}, 100]\n",
      "list_2:   [20, [22, 33, 55, 66], (5, 6, 7), {'name': 'Sarah'}, 'n']\n"
     ]
    }
   ],
   "source": [
    "list_1[1].remove(44)\n",
    "list_2[1] += [55, 66]\n",
    "\n",
    "print(\"list_1:  \", list_1)\n",
    "print(\"list_2:  \", list_2)"
   ]
  },
  {
   "cell_type": "markdown",
   "id": "60191304",
   "metadata": {},
   "source": [
    "发生问题原因：\n",
    "![对列表型元素操作产生问题的原因](问题原理1.png \"列表问题原理\")"
   ]
  },
  {
   "cell_type": "code",
   "execution_count": null,
   "id": "730af712",
   "metadata": {},
   "outputs": [],
   "source": []
  }
 ],
 "metadata": {
  "kernelspec": {
   "display_name": "Python 3 (ipykernel)",
   "language": "python",
   "name": "python3"
  },
  "language_info": {
   "codemirror_mode": {
    "name": "ipython",
    "version": 3
   },
   "file_extension": ".py",
   "mimetype": "text/x-python",
   "name": "python",
   "nbconvert_exporter": "python",
   "pygments_lexer": "ipython3",
   "version": "3.11.9"
  }
 },
 "nbformat": 4,
 "nbformat_minor": 5
}
